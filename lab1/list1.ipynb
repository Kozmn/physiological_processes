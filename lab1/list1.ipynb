{
 "cells": [
  {
   "cell_type": "markdown",
   "id": "c0ffd301",
   "metadata": {},
   "source": [
    "# Assignment 1: Analysis of Blood Vessel Compliance\n",
    "\n",
    "**Author:** Kacper Koźmin\n",
    "**Album Number:** 268571\n",
    "**Date:** October 8, 2025"
   ]
  },
  {
   "cell_type": "markdown",
   "id": "c35abbf4",
   "metadata": {},
   "source": [
    "## Loading necessary libraries"
   ]
  },
  {
   "cell_type": "code",
   "execution_count": null,
   "id": "1ccee984",
   "metadata": {
    "vscode": {
     "languageId": "plaintext"
    }
   },
   "outputs": [],
   "source": [
    "import pandas as pd\n",
    "import matplotlib.pyplot as plt\n",
    "import numpy as np\n",
    "from scipy.optimize import curve_fit"
   ]
  },
  {
   "cell_type": "markdown",
   "id": "6dd2619e",
   "metadata": {},
   "source": [
    "## Definition of functions and visualization of theoretical models\n",
    "The functions were defined based on the formulas from the assignment sheet. The parameters in this part of the tasks were selected for the best visualization of the models on the charts."
   ]
  },
  {
   "cell_type": "code",
   "execution_count": null,
   "id": "c35d4eb2",
   "metadata": {
    "vscode": {
     "languageId": "plaintext"
    }
   },
   "outputs": [],
   "source": [
    "def linear_model (V, a, b):\n",
    "    return V * a + b\n",
    "\n",
    "def exponential_model(V, P0, alpha, V0):\n",
    "    return P0 * (np.exp(alpha * (V - V0)) - 1)\n",
    "\n",
    "def logistic_model(V, P_max, beta, V50):\n",
    "    return P_max / (1 + np.exp(-beta * (V - V50)))\n",
    "\n",
    "\n",
    "V = np.linspace(0,10,100)\n",
    "\n",
    "\n",
    "P_linear = linear_model(V, 12, 5)\n",
    "P_exponential = exponential_model(V, 2.5, 0.4, 0)\n",
    "P_logistic = logistic_model(V, 120, 1, 5)\n",
    "\n",
    "dP_dV_linear = np.gradient(P_linear, V)\n",
    "dP_dV_exponential = np.gradient(P_exponential, V)\n",
    "dP_dV_logistic = np.gradient(P_logistic, V)\n",
    "\n",
    "C_linear = 1 / dP_dV_linear\n",
    "C_exponential = 1 / dP_dV_exponential\n",
    "C_logistic = 1 / dP_dV_logistic\n",
    "\n",
    "\n",
    "\n",
    "plt.plot(V, P_linear, label = 'linear')\n",
    "plt.plot(V, P_exponential, label = 'exponential')\n",
    "plt.plot(V, P_logistic, label = 'sigmoid')\n",
    "plt.xlabel('Volume [V]')\n",
    "plt.ylabel('Pressure [P]')\n",
    "plt.legend()\n",
    "plt.title('P-V Models of Blood Vessels')\n",
    "plt.show()\n",
    "\n",
    "\n",
    "\n",
    "plt.plot(P_linear, C_linear, label = 'linear')\n",
    "plt.plot(P_exponential, C_exponential, label = 'exponential')\n",
    "plt.plot(P_logistic, C_logistic, label = 'sigmoid')\n",
    "plt.xlabel('Pressure P')\n",
    "plt.ylabel('Compliance C')\n",
    "plt.legend()\n",
    "plt.title('Compliance C(P)')\n",
    "plt.show()"
   ]
  },
  {
   "cell_type": "markdown",
   "id": "4f70ee46",
   "metadata": {},
   "source": [
    "## Windkessel Model"
   ]
  },
  {
   "cell_type": "code",
   "execution_count": null,
   "id": "2ed785c4",
   "metadata": {
    "vscode": {
     "languageId": "plaintext"
    }
   },
   "outputs": [],
   "source": [
    "def windkessel_model(t, R, C, Pi, Pd):\n",
    "    return Pd + (Pi - Pd) * np.exp(-t / (R * C))\n",
    "\n",
    "C = 1.0\n",
    "Pi = 120 \n",
    "Pd = 70   \n",
    "R_values = [0.5, 1.0, 1.5] \n",
    "t = np.linspace(0, 5, 100) \n",
    "\n",
    "for R in R_values:\n",
    "    P_t = windkessel_model(t, R, C, Pi, Pd)\n",
    "    plt.plot(t, P_t, label=f'R = {R}')\n",
    "\n",
    "plt.xlabel('Time [s]')\n",
    "plt.ylabel('Pressure [mmHg]')\n",
    "plt.title('Effect of R on Pressure Decay in the Windkessel Model')\n",
    "plt.legend()\n",
    "plt.grid(True)\n",
    "plt.show()"
   ]
  },
  {
   "cell_type": "markdown",
   "id": "4a37b55f",
   "metadata": {},
   "source": [
    "## Loading and visualizing patient data"
   ]
  },
  {
   "cell_type": "code",
   "execution_count": null,
   "id": "406020b9",
   "metadata": {
    "vscode": {
     "languageId": "plaintext"
    }
   },
   "outputs": [],
   "source": [
    "df = pd.read_csv('patients.csv')\n",
    "\n",
    "plt.scatter(df['V'], df['PA'], label = 'Patient A', color = 'red')\n",
    "plt.scatter(df['V'], df['PB'], label = 'Patient B', color = 'blue')\n",
    "plt.scatter(df['V'], df['PC'], label = 'Patient C', color = 'green')\n",
    "plt.xlabel('V')\n",
    "plt.ylabel('Patient')\n",
    "plt.legend()\n",
    "plt.grid(True, alpha=0.3)\n",
    "plt.show()"
   ]
  },
  {
   "cell_type": "markdown",
   "id": "5c673e66",
   "metadata": {},
   "source": [
    "## Graded Assignment\n",
    "Creating a model dictionary, fitting the best models for each patient using curve_fit, and calculating the Sum of Squared Residuals (SSR)."
   ]
  },
  {
   "cell_type": "code",
   "execution_count": null,
   "id": "1fe175fd",
   "metadata": {
    "vscode": {
     "languageId": "plaintext"
    }
   },
   "outputs": [],
   "source": [
    "models = {\n",
    "    'linear': linear_model,\n",
    "    'exponential': exponential_model,\n",
    "    'logistic': logistic_model\n",
    "}\n",
    "\n",
    "patient_columns = ['PA', 'PB', 'PC']\n",
    "results = {}\n",
    "\n",
    "for patient_column in patient_columns:\n",
    "    results[patient_column] = {}\n",
    "    y_data = df[patient_column]\n",
    "    x_data = df['V']\n",
    "    for model_name, model_function in models.items():\n",
    "        try:\n",
    "            params, _ = curve_fit(model_function, x_data, y_data, maxfev=5000)\n",
    "            fit = model_function(x_data, *params)\n",
    "            ssr = np.sum((y_data - fit)**2)\n",
    "            results[patient_column][model_name] = {'params': params, 'ssr': ssr}\n",
    "        except RuntimeError:\n",
    "            results[patient_column][model_name] = {'params': [], 'ssr': float('inf')}"
   ]
  },
  {
   "cell_type": "markdown",
   "id": "975b0987",
   "metadata": {},
   "source": [
    "## Finding and printing the best-fit model for each patient (lowest SSR)"
   ]
  },
  {
   "cell_type": "code",
   "execution_count": null,
   "id": "725cf0fa",
   "metadata": {
    "vscode": {
     "languageId": "plaintext"
    }
   },
   "outputs": [],
   "source": [
    "best_models = {} \n",
    "for patient_id, models_data in results.items():\n",
    "    lowest_ssr = float('inf')\n",
    "    best_model_name = ''\n",
    "    for model_name, model_info in models_data.items():\n",
    "        if model_info['ssr'] < lowest_ssr:\n",
    "            lowest_ssr = model_info['ssr']\n",
    "            best_model_name = model_info['ssr']\n",
    "            best_model_name = model_name\n",
    "    \n",
    "    best_models[patient_id] = {\n",
    "        'model_name': best_model_name, \n",
    "        'params': results[patient_id][best_model_name]['params']\n",
    "    }\n",
    "    print(f\"For Patient {patient_id}, the best fit is the {best_model_name} model (SSR = {lowest_ssr:.2f})\")"
   ]
  },
  {
   "cell_type": "markdown",
   "id": "83d63023",
   "metadata": {},
   "source": [
    "## Compliance Comparison\n",
    "For each patient, their best-fit model is used to calculate the compliance curve C as a function of pressure P. Then, the compliance values for pressures closest to 80, 100, and 120 mmHg are found and printed."
   ]
  },
  {
   "cell_type": "code",
   "execution_count": null,
   "id": "0599eb0c",
   "metadata": {
    "vscode": {
     "languageId": "plaintext"
    }
   },
   "outputs": [],
   "source": [
    "pressures_to_check = [80, 100, 120]\n",
    "for patient_id, best_model_data in best_models.items():\n",
    "    best_model_name = best_model_data['model_name']\n",
    "    best_params = best_model_data['params']\n",
    "    best_model_function = models[best_model_name]\n",
    "\n",
    "    V_dense = np.linspace(0, 20, 1000)\n",
    "    P_dense = best_model_function(V_dense, *best_params)\n",
    "    C_dense = 1 / np.gradient(P_dense, V_dense)\n",
    "\n",
    "    print(f\"Compliance for Patient {patient_id} (using {best_model_name} model):\")\n",
    "    for p_target in pressures_to_check:\n",
    "        idx = np.argmin(np.abs(P_dense - p_target))\n",
    "        compliance = C_dense[idx]\n",
    "        print(f\"  At P ≈ {p_target} mmHg, Compliance C ≈ {compliance:.4f}\")"
   ]
  },
  {
   "cell_type": "markdown",
   "id": "d2c16963",
   "metadata": {},
   "source": [
    "## Comparing patient data with the fitted P-V curves"
   ]
  },
  {
   "cell_type": "code",
   "execution_count": null,
   "id": "106a4901",
   "metadata": {
    "vscode": {
     "languageId": "plaintext"
    }
   },
   "outputs": [],
   "source": [
    "plt.figure(figsize=(12, 8))\n",
    "for patient_id, data in df.iloc[:, 1:].items():\n",
    "    plt.scatter(df['V'], data, label=f'Patient {patient_id} Data')\n",
    "    best_model_info = best_models[patient_id]\n",
    "    model_name = best_model_info['model_name']\n",
    "    model_func = models[model_name]\n",
    "    model_params = best_model_info['params']\n",
    "    V_fit = np.linspace(min(df['V']), max(df['V']), 200)\n",
    "    P_fit = model_func(V_fit, *model_params)\n",
    "    plt.plot(V_fit, P_fit, label=f'Best Fit for {patient_id} ({model_name})')\n",
    "\n",
    "plt.xlabel('Volume V [arb. unit]')\n",
    "plt.ylabel('Pressure P [mmHg]')\n",
    "plt.title('Best P-V Model Fit for Each Patient')\n",
    "plt.legend()\n",
    "plt.grid(True)\n",
    "plt.show()"
   ]
  },
  {
   "cell_type": "code",
   "execution_count": null,
   "id": "44a3cf5d",
   "metadata": {
    "vscode": {
     "languageId": "plaintext"
    }
   },
   "outputs": [],
   "source": []
  }
 ],
 "metadata": {
  "language_info": {
   "name": "python"
  }
 },
 "nbformat": 4,
 "nbformat_minor": 5
}
